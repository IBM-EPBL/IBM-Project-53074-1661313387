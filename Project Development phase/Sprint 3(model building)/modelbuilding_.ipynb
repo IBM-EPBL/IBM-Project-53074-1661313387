{
  "cells": [
    {
      "cell_type": "markdown",
      "source": [
        "**MODEL BUILDING**"
      ],
      "metadata": {
        "id": "PBrwDm6CnNL2"
      }
    },
    {
      "cell_type": "markdown",
      "source": [
        "**Importing The Model Building Libraries**"
      ],
      "metadata": {
        "id": "2uEbnsGJqXSe"
      }
    },
    {
      "cell_type": "code",
      "execution_count": null,
      "metadata": {
        "id": "egoZTFV76iVX"
      },
      "outputs": [],
      "source": [
        "from keras.preprocessing.image import ImageDataGenerator\n",
        "import numpy as np\n",
        "import tensorflow\n",
        "from tensorflow.keras.models import Sequential \n",
        "from tensorflow.keras import layers\n",
        "from tensorflow.keras.layers import Dense, Flatten\n",
        "from tensorflow.keras.layers import Conv2D, MaxPooling2D,Dropout\n",
        "from keras.preprocessing.image import ImageDataGenerator"
      ]
    },
    {
      "cell_type": "markdown",
      "source": [
        "**Initializing The Model**"
      ],
      "metadata": {
        "id": "VSQCRvExpj7m"
      }
    },
    {
      "cell_type": "code",
      "execution_count": null,
      "metadata": {
        "id": "qv92cae5URJ5"
      },
      "outputs": [],
      "source": [
        "model=Sequential()"
      ]
    },
    {
      "cell_type": "markdown",
      "source": [
        "**Adding CNN Layers**"
      ],
      "metadata": {
        "id": "g8EQGzQAqx1I"
      }
    },
    {
      "cell_type": "code",
      "execution_count": null,
      "metadata": {
        "id": "O0kAvbMNURJ5"
      },
      "outputs": [],
      "source": [
        "classifier = Sequential()\n",
        "classifier.add(Conv2D(32,(3, 3), input_shape=(64, 64, 3),activation='relu')) \n",
        "classifier.add(MaxPooling2D(pool_size=(2, 2)))\n",
        "classifier.add(Conv2D(32, (3, 3), activation='relu'))\n",
        "classifier.add(MaxPooling2D(pool_size=(2, 2)))\n",
        "classifier.add(Flatten())"
      ]
    },
    {
      "cell_type": "markdown",
      "source": [
        "**Adding Dense Layers**"
      ],
      "metadata": {
        "id": "rFoNuCa4rQUK"
      }
    },
    {
      "cell_type": "code",
      "source": [
        "classifier.add(Dense (units=128, activation='relu'))\n",
        "classifier.add(Dense (units=5, activation='softmax'))"
      ],
      "metadata": {
        "id": "7KVCN-oDrKYS"
      },
      "execution_count": null,
      "outputs": []
    },
    {
      "cell_type": "code",
      "execution_count": null,
      "metadata": {
        "colab": {
          "base_uri": "https://localhost:8080/"
        },
        "id": "d08Oruh01Kz3",
        "outputId": "16429bf7-ff66-4744-ca30-ee5edeb73bae"
      },
      "outputs": [
        {
          "output_type": "stream",
          "name": "stdout",
          "text": [
            "Model: \"sequential_1\"\n",
            "_________________________________________________________________\n",
            " Layer (type)                Output Shape              Param #   \n",
            "=================================================================\n",
            " conv2d (Conv2D)             (None, 62, 62, 32)        896       \n",
            "                                                                 \n",
            " max_pooling2d (MaxPooling2D  (None, 31, 31, 32)       0         \n",
            " )                                                               \n",
            "                                                                 \n",
            " conv2d_1 (Conv2D)           (None, 29, 29, 32)        9248      \n",
            "                                                                 \n",
            " max_pooling2d_1 (MaxPooling  (None, 14, 14, 32)       0         \n",
            " 2D)                                                             \n",
            "                                                                 \n",
            " flatten (Flatten)           (None, 6272)              0         \n",
            "                                                                 \n",
            " dense (Dense)               (None, 128)               802944    \n",
            "                                                                 \n",
            " dense_1 (Dense)             (None, 5)                 645       \n",
            "                                                                 \n",
            "=================================================================\n",
            "Total params: 813,733\n",
            "Trainable params: 813,733\n",
            "Non-trainable params: 0\n",
            "_________________________________________________________________\n"
          ]
        }
      ],
      "source": [
        "classifier.summary()"
      ]
    },
    {
      "cell_type": "markdown",
      "source": [
        "**Configure The Learning Process**"
      ],
      "metadata": {
        "id": "5j5O89TKrWwb"
      }
    },
    {
      "cell_type": "code",
      "execution_count": null,
      "metadata": {
        "id": "vn-AEp2bURJ7"
      },
      "outputs": [],
      "source": [
        "classifier.compile(optimizer='adam', loss='sparse_categorical_crossentropy', metrics=['accuracy'])"
      ]
    },
    {
      "cell_type": "markdown",
      "source": [
        "**Train The Model**"
      ],
      "metadata": {
        "id": "VwDWLRkXrZsO"
      }
    },
    {
      "cell_type": "code",
      "execution_count": null,
      "metadata": {
        "colab": {
          "base_uri": "https://localhost:8080/"
        },
        "id": "I3RcBQmG-OVP",
        "outputId": "f3b9c92b-e112-4814-f8a8-0a403f5f3a45"
      },
      "outputs": [
        {
          "output_type": "stream",
          "name": "stdout",
          "text": [
            "Epoch 1/20\n"
          ]
        },
        {
          "output_type": "stream",
          "name": "stderr",
          "text": [
            "/usr/local/lib/python3.7/dist-packages/ipykernel_launcher.py:3: UserWarning: `Model.fit_generator` is deprecated and will be removed in a future version. Please use `Model.fit`, which supports generators.\n",
            "  This is separate from the ipykernel package so we can avoid doing imports until\n"
          ]
        },
        {
          "output_type": "stream",
          "name": "stdout",
          "text": [
            "528/528 [==============================] - 180s 338ms/step - loss: 0.1397 - accuracy: 0.9503 - val_loss: 2.3967e-04 - val_accuracy: 1.0000\n",
            "Epoch 2/20\n",
            "528/528 [==============================] - 34s 65ms/step - loss: 6.7474e-04 - accuracy: 1.0000 - val_loss: 3.9514e-05 - val_accuracy: 1.0000\n",
            "Epoch 3/20\n",
            "528/528 [==============================] - 35s 66ms/step - loss: 7.4075e-05 - accuracy: 1.0000 - val_loss: 1.7509e-05 - val_accuracy: 1.0000\n",
            "Epoch 4/20\n",
            "528/528 [==============================] - 34s 64ms/step - loss: 6.0598e-05 - accuracy: 1.0000 - val_loss: 9.2971e-06 - val_accuracy: 1.0000\n",
            "Epoch 5/20\n",
            "528/528 [==============================] - 34s 64ms/step - loss: 3.1591e-05 - accuracy: 1.0000 - val_loss: 7.9415e-06 - val_accuracy: 1.0000\n",
            "Epoch 6/20\n",
            "528/528 [==============================] - 33s 63ms/step - loss: 1.4470e-05 - accuracy: 1.0000 - val_loss: 4.3651e-06 - val_accuracy: 1.0000\n",
            "Epoch 7/20\n",
            "528/528 [==============================] - 34s 64ms/step - loss: 1.1514e-05 - accuracy: 1.0000 - val_loss: 2.2619e-06 - val_accuracy: 1.0000\n",
            "Epoch 8/20\n",
            "528/528 [==============================] - 34s 64ms/step - loss: 8.8513e-06 - accuracy: 1.0000 - val_loss: 1.8313e-06 - val_accuracy: 1.0000\n",
            "Epoch 9/20\n",
            "528/528 [==============================] - 33s 63ms/step - loss: 9.5883e-06 - accuracy: 1.0000 - val_loss: 1.3611e-06 - val_accuracy: 1.0000\n",
            "Epoch 10/20\n",
            "528/528 [==============================] - 33s 63ms/step - loss: 6.4717e-06 - accuracy: 1.0000 - val_loss: 3.3795e-06 - val_accuracy: 1.0000\n",
            "Epoch 11/20\n",
            "528/528 [==============================] - 36s 68ms/step - loss: 2.6733e-06 - accuracy: 1.0000 - val_loss: 7.5355e-07 - val_accuracy: 1.0000\n",
            "Epoch 12/20\n",
            "528/528 [==============================] - 36s 68ms/step - loss: 5.4070e-06 - accuracy: 1.0000 - val_loss: 2.7201e-06 - val_accuracy: 1.0000\n",
            "Epoch 13/20\n",
            "528/528 [==============================] - 34s 64ms/step - loss: 2.4606e-06 - accuracy: 1.0000 - val_loss: 4.6286e-07 - val_accuracy: 1.0000\n",
            "Epoch 14/20\n",
            "528/528 [==============================] - 34s 65ms/step - loss: 1.1031e-06 - accuracy: 1.0000 - val_loss: 3.3217e-07 - val_accuracy: 1.0000\n",
            "Epoch 15/20\n",
            "528/528 [==============================] - 34s 65ms/step - loss: 7.7886e-07 - accuracy: 1.0000 - val_loss: 1.9283e-07 - val_accuracy: 1.0000\n",
            "Epoch 16/20\n",
            "528/528 [==============================] - 33s 63ms/step - loss: 8.6785e-07 - accuracy: 1.0000 - val_loss: 2.1825e-07 - val_accuracy: 1.0000\n",
            "Epoch 17/20\n",
            "528/528 [==============================] - 33s 62ms/step - loss: 0.1326 - accuracy: 0.9704 - val_loss: 2.0111e-04 - val_accuracy: 1.0000\n",
            "Epoch 18/20\n",
            "528/528 [==============================] - 33s 62ms/step - loss: 2.8419e-04 - accuracy: 1.0000 - val_loss: 1.1377e-04 - val_accuracy: 1.0000\n",
            "Epoch 19/20\n",
            "528/528 [==============================] - 34s 65ms/step - loss: 7.7139e-05 - accuracy: 1.0000 - val_loss: 2.1947e-05 - val_accuracy: 1.0000\n",
            "Epoch 20/20\n",
            "528/528 [==============================] - 36s 68ms/step - loss: 4.7479e-05 - accuracy: 1.0000 - val_loss: 1.2133e-05 - val_accuracy: 1.0000\n"
          ]
        },
        {
          "output_type": "execute_result",
          "data": {
            "text/plain": [
              "<keras.callbacks.History at 0x7f5ec12a0250>"
            ]
          },
          "metadata": {},
          "execution_count": 13
        }
      ],
      "source": [
        "classifier.fit_generator(\n",
        "    generator=x_train,steps_per_epoch = len(x_train), \n",
        "    epochs=20,validation_data=x_test,validation_steps = len(x_test))\n"
      ]
    },
    {
      "cell_type": "markdown",
      "source": [
        "**Save The Model**"
      ],
      "metadata": {
        "id": "RkbVZy6Hrjwy"
      }
    },
    {
      "cell_type": "code",
      "execution_count": null,
      "metadata": {
        "id": "1F119invVdKS"
      },
      "outputs": [],
      "source": [
        "classifier.save('nutrition.h5')"
      ]
    },
    {
      "cell_type": "markdown",
      "source": [
        "**Test The Model**"
      ],
      "metadata": {
        "id": "74H9iIBkrsdG"
      }
    },
    {
      "cell_type": "code",
      "execution_count": null,
      "metadata": {
        "id": "h0E4XsFFURJ9"
      },
      "outputs": [],
      "source": [
        "from tensorflow.keras.models import load_model\n",
        "from keras.preprocessing import image\n",
        "model = load_model(\"nutrition.h5\")\n",
        "from tensorflow.keras.preprocessing import image"
      ]
    },
    {
      "cell_type": "code",
      "execution_count": null,
      "metadata": {
        "id": "LPxmrSndaH6J",
        "colab": {
          "base_uri": "https://localhost:8080/"
        },
        "outputId": "12a3bb5b-0c24-4987-90d8-2cb7f318facb"
      },
      "outputs": [
        {
          "output_type": "stream",
          "name": "stdout",
          "text": [
            "1/1 [==============================] - 0s 122ms/step\n"
          ]
        },
        {
          "output_type": "execute_result",
          "data": {
            "text/plain": [
              "array([[0., 0., 1., 0., 0.]], dtype=float32)"
            ]
          },
          "metadata": {},
          "execution_count": 16
        }
      ],
      "source": [
        "img =image.load_img(r\"/content/drive/MyDrive/TRAIN_SET/ORANGE/100_100.jpg\",grayscale=False, target_size= (64,64))\n",
        "x = image.img_to_array(img)\n",
        "x = np.expand_dims(x,axis=0)\n",
        "pred =model.predict(x)\n",
        "pred"
      ]
    },
    {
      "cell_type": "code",
      "execution_count": null,
      "metadata": {
        "id": "QE7Bw-sRlNHH",
        "colab": {
          "base_uri": "https://localhost:8080/",
          "height": 183
        },
        "outputId": "4759dd27-ffe0-4f49-cfea-8d7d50b3d518"
      },
      "outputs": [
        {
          "output_type": "error",
          "ename": "NameError",
          "evalue": "ignored",
          "traceback": [
            "\u001b[0;31m---------------------------------------------------------------------------\u001b[0m",
            "\u001b[0;31mNameError\u001b[0m                                 Traceback (most recent call last)",
            "\u001b[0;32m<ipython-input-14-6f1202973bd3>\u001b[0m in \u001b[0;36m<module>\u001b[0;34m\u001b[0m\n\u001b[1;32m      1\u001b[0m \u001b[0mlabels\u001b[0m\u001b[0;34m=\u001b[0m\u001b[0;34m[\u001b[0m\u001b[0;34m'APPLES'\u001b[0m\u001b[0;34m,\u001b[0m \u001b[0;34m'BANANA'\u001b[0m\u001b[0;34m,\u001b[0m \u001b[0;34m'ORANGE'\u001b[0m\u001b[0;34m,\u001b[0m\u001b[0;34m'PINEAPPLE'\u001b[0m\u001b[0;34m,\u001b[0m\u001b[0;34m'WATERMELON'\u001b[0m\u001b[0;34m]\u001b[0m\u001b[0;34m\u001b[0m\u001b[0;34m\u001b[0m\u001b[0m\n\u001b[0;32m----> 2\u001b[0;31m \u001b[0mlabels\u001b[0m\u001b[0;34m[\u001b[0m\u001b[0mnp\u001b[0m\u001b[0;34m.\u001b[0m\u001b[0margmax\u001b[0m\u001b[0;34m(\u001b[0m\u001b[0mpred\u001b[0m\u001b[0;34m)\u001b[0m\u001b[0;34m]\u001b[0m\u001b[0;34m\u001b[0m\u001b[0;34m\u001b[0m\u001b[0m\n\u001b[0m",
            "\u001b[0;31mNameError\u001b[0m: name 'np' is not defined"
          ]
        }
      ],
      "source": [
        "labels=['APPLES', 'BANANA', 'ORANGE','PINEAPPLE','WATERMELON']\n",
        "labels[np.argmax(pred)]"
      ]
    }
  ],
  "metadata": {
    "colab": {
      "provenance": []
    },
    "kernelspec": {
      "display_name": "Python 3 (ipykernel)",
      "language": "python",
      "name": "python3"
    },
    "language_info": {
      "codemirror_mode": {
        "name": "ipython",
        "version": 3
      },
      "file_extension": ".py",
      "mimetype": "text/x-python",
      "name": "python",
      "nbconvert_exporter": "python",
      "pygments_lexer": "ipython3",
      "version": "3.9.13"
    }
  },
  "nbformat": 4,
  "nbformat_minor": 0
}